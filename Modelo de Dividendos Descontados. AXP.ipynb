{
 "cells": [
  {
   "cell_type": "markdown",
   "metadata": {},
   "source": [
    "# <font color = \"green\"> Modelo de Dividendos Descontados <font/>\n",
    "## AXP\n",
    "\n",
    "<img src = \"https://icm.aexp-static.com/Internet/internationalcardshop/es_mx/images/cards/LA_TARJETA_AMERICAN_EXPRESS.png\" width=\"600px\" height=\"150px\" /> \n",
    "\n",
    "por López Lazareno Diego Alberto"
   ]
  },
  {
   "cell_type": "markdown",
   "metadata": {},
   "source": [
    "## Modelo General\n",
    "\n",
    "Cuando un inversor compra una acción generalmente espera recibir dos tipos de flujos de efectivo: dividendos durante el periodo de tenencia del activo y un precio esperado al final de dicho periodo. Ya que éste último se determina por dividendos futuros podemos afirmar que el valor intrínseco de una acción es el valor presente de los dividendos que el inversor espera recibir hasta el infinito.\n",
    "\n",
    "$$ Valor \\space por \\space Acción = \\sum_{t = 1}^{t = \\infty} \\frac{E[DPS_t]} {(1 + k_e)^t} $$\n",
    "\n",
    "donde:\n",
    "\n",
    "+ $DPS_t$ = Dividendos Esperados por Acción\n",
    "+ $k_e$ = Tasa de Descuento (Cost of Equity)\n",
    "\n",
    "Ya que es imposible hacer estimaciones de los dividendos hasta el infinito se han desarrollado varias versiones del modelo de dividendos descontados basadas en distintas suposiciones sobre el crecimiento futuro.\n",
    "\n",
    "## Modelo de Dividendos Descontados de Dos Etapas\n",
    "\n",
    "Este modelo permite que existan dos etapas de crecimiento: una fase inicial donde la tasa de crecimiento no es estable y una fase subsecuente donde la tasa de crecimiento es estable y se espera que permanezca de tal forma para el largo plazo. En la mayoría de los casos la tasa de crecimiento durante la fase inicial suele ser más alta que la tasa de crecimiento estable. Sin embargo, el modelo puede ser adaptado para valuar compañías que esperan un crecimiento bajo o negativo por algunos años y que luego revierte a un crecimiento estable.\n",
    "\n",
    "$$ P_0 = \\sum_{t = 1}^{t = n} \\frac{DPS_t} {(1 + k_{e, hg})^t} + \\frac{P_n}{(1 + k_{e, hg})^n} $$\n",
    "\n",
    "donde:\n",
    "\n",
    "+ $P_n = \\frac{DPS_{n+1}}{(k_{e, st} - g_n)}$\n",
    "+ $DPS_t$ = Dividendos Esperados por Acción en el Año $t$\n",
    "+ $k_e$ = Cost of Equity ($hg$: Fase de Alto Crecimiento, $st$: Fase de Crecimiento Estable)\n",
    "+ $P_n$ = Valor Terminal (Precio) al Final del Año $n$\n",
    "+ $g$ = Tasa de Crecimiento Extraordinario (primeros $n$ años)\n",
    "+ $g_n$ = Tasa de Crecimiento Estable (después del año $n$)\n",
    "\n",
    "En el caso en que la tasa de crecimiento extraordinaria (inicial) $g$ y el ratio payout no sean alterados para los primeros $n$ años, la anterior fórmula puede ser escrita de la siguiente manera:\n",
    "\n",
    "$$ P_0 = \\frac{DPS_0*(1 + g)*(1 - \\frac{(1 + g)^n}{(1 + k_{e, hg})^n})}{k_{e, hg} - g} + \\frac{DPS_{n+1}}{(k_{e, st} - g_n)(1 + k_{e, hg})^n} $$\n",
    "\n"
   ]
  },
  {
   "cell_type": "markdown",
   "metadata": {},
   "source": [
    "## Introducción Diego"
   ]
  },
  {
   "cell_type": "markdown",
   "metadata": {},
   "source": []
  },
  {
   "cell_type": "markdown",
   "metadata": {},
   "source": [
    "## Introducción Pablo"
   ]
  },
  {
   "cell_type": "markdown",
   "metadata": {},
   "source": []
  },
  {
   "cell_type": "code",
   "execution_count": 1,
   "metadata": {},
   "outputs": [],
   "source": [
    "## Librerías necesarias\n",
    "# Análisis y manejo de datos\n",
    "import pandas as pd\n",
    "import numpy as np\n",
    "\n",
    "# Yfinance\n",
    "import yfinance as yf\n",
    "\n",
    "# Visualización\n",
    "import matplotlib.pyplot as plt\n",
    "%matplotlib inline\n",
    "\n",
    "# Formato de tiempo\n",
    "import datetime as dt\n",
    "\n",
    "# Regresión lineal \n",
    "from sklearn.linear_model import LinearRegression\n",
    "\n",
    "# Web scraping\n",
    "import requests\n",
    "from bs4 import BeautifulSoup\n",
    "from fake_useragent import UserAgent\n",
    "\n",
    "# FMP API\n",
    "from pyfmpcloud import settings\n",
    "from pyfmpcloud import company_valuation as cv\n",
    "api_key = pd.read_csv(\"Data/apiKey_FMP.csv\").iloc[0, 0]\n",
    "settings.set_apikey(api_key)"
   ]
  },
  {
   "cell_type": "code",
   "execution_count": 2,
   "metadata": {},
   "outputs": [],
   "source": [
    "# Descarga de estados financieros para el símbolo de cotización\n",
    "ticker = \"AXP\"\n",
    "incomeStatement = cv.income_statement(ticker)\n",
    "balanceSheet = cv.balance_sheet(ticker)\n",
    "cashFlowStatement = cv.cash_flow_statement(ticker)"
   ]
  },
  {
   "cell_type": "markdown",
   "metadata": {},
   "source": [
    "### Datos Fundamentales"
   ]
  },
  {
   "cell_type": "code",
   "execution_count": 3,
   "metadata": {},
   "outputs": [
    {
     "data": {
      "text/html": [
       "<div>\n",
       "<style scoped>\n",
       "    .dataframe tbody tr th:only-of-type {\n",
       "        vertical-align: middle;\n",
       "    }\n",
       "\n",
       "    .dataframe tbody tr th {\n",
       "        vertical-align: top;\n",
       "    }\n",
       "\n",
       "    .dataframe thead th {\n",
       "        text-align: right;\n",
       "    }\n",
       "</style>\n",
       "<table border=\"1\" class=\"dataframe\">\n",
       "  <thead>\n",
       "    <tr style=\"text-align: right;\">\n",
       "      <th></th>\n",
       "      <th>Earnings Per Share</th>\n",
       "      <th>Dividends Per Share</th>\n",
       "    </tr>\n",
       "  </thead>\n",
       "  <tbody>\n",
       "    <tr>\n",
       "      <th>AXP (LFY)</th>\n",
       "      <td>3.89441</td>\n",
       "      <td>1.831056</td>\n",
       "    </tr>\n",
       "  </tbody>\n",
       "</table>\n",
       "</div>"
      ],
      "text/plain": [
       "           Earnings Per Share  Dividends Per Share\n",
       "AXP (LFY)             3.89441             1.831056"
      ]
     },
     "execution_count": 3,
     "metadata": {},
     "output_type": "execute_result"
    }
   ],
   "source": [
    "# Utilidad neta por acción (último ejercicio fiscal)\n",
    "eps = incomeStatement[\"netIncome\"].iloc[0] / incomeStatement[\"weightedAverageShsOut\"].iloc[0]\n",
    "# Dividendos por acción (último ejercicio fiscal)\n",
    "dps = abs(cashFlowStatement[\"dividendsPaid\"].iloc[0]) / incomeStatement[\"weightedAverageShsOut\"].iloc[0]\n",
    "\n",
    "fundamentals = pd.DataFrame({\"Earnings Per Share\" : eps, \"Dividends Per Share\" : dps}, index = [ticker + \" (LFY)\"])\n",
    "fundamentals"
   ]
  },
  {
   "cell_type": "markdown",
   "metadata": {},
   "source": [
    "### Tasa de Crecimiento (Fase de Alto Crecimiento)\n",
    "#### Crecimiento Fundamental & Crecimiento Estimado por Analistas (Zacks)"
   ]
  },
  {
   "cell_type": "code",
   "execution_count": 4,
   "metadata": {
    "scrolled": true
   },
   "outputs": [
    {
     "data": {
      "text/html": [
       "<div>\n",
       "<style scoped>\n",
       "    .dataframe tbody tr th:only-of-type {\n",
       "        vertical-align: middle;\n",
       "    }\n",
       "\n",
       "    .dataframe tbody tr th {\n",
       "        vertical-align: top;\n",
       "    }\n",
       "\n",
       "    .dataframe thead th {\n",
       "        text-align: right;\n",
       "    }\n",
       "</style>\n",
       "<table border=\"1\" class=\"dataframe\">\n",
       "  <thead>\n",
       "    <tr style=\"text-align: right;\">\n",
       "      <th></th>\n",
       "      <th>Payout Ratio</th>\n",
       "      <th>Return on Equity</th>\n",
       "      <th>Fundamental Growth</th>\n",
       "    </tr>\n",
       "    <tr>\n",
       "      <th>date</th>\n",
       "      <th></th>\n",
       "      <th></th>\n",
       "      <th></th>\n",
       "    </tr>\n",
       "  </thead>\n",
       "  <tbody>\n",
       "    <tr>\n",
       "      <th>2020-12-31 00:00:00</th>\n",
       "      <td>0.470175</td>\n",
       "      <td>0.136399</td>\n",
       "      <td>0.0722677</td>\n",
       "    </tr>\n",
       "    <tr>\n",
       "      <th>2019-12-31 00:00:00</th>\n",
       "      <td>0.210386</td>\n",
       "      <td>0.292965</td>\n",
       "      <td>0.231329</td>\n",
       "    </tr>\n",
       "    <tr>\n",
       "      <th>2018-12-31 00:00:00</th>\n",
       "      <td>0.191302</td>\n",
       "      <td>0.310498</td>\n",
       "      <td>0.251099</td>\n",
       "    </tr>\n",
       "    <tr>\n",
       "      <th>2017-12-31 00:00:00</th>\n",
       "      <td>0.457237</td>\n",
       "      <td>0.150107</td>\n",
       "      <td>0.0814725</td>\n",
       "    </tr>\n",
       "    <tr>\n",
       "      <th>2016-12-31 00:00:00</th>\n",
       "      <td>0.223188</td>\n",
       "      <td>0.263792</td>\n",
       "      <td>0.204917</td>\n",
       "    </tr>\n",
       "    <tr>\n",
       "      <th>Median</th>\n",
       "      <td>0.223188</td>\n",
       "      <td>0.263792</td>\n",
       "      <td>0.204917</td>\n",
       "    </tr>\n",
       "  </tbody>\n",
       "</table>\n",
       "</div>"
      ],
      "text/plain": [
       "                    Payout Ratio Return on Equity Fundamental Growth\n",
       "date                                                                \n",
       "2020-12-31 00:00:00     0.470175         0.136399          0.0722677\n",
       "2019-12-31 00:00:00     0.210386         0.292965           0.231329\n",
       "2018-12-31 00:00:00     0.191302         0.310498           0.251099\n",
       "2017-12-31 00:00:00     0.457237         0.150107          0.0814725\n",
       "2016-12-31 00:00:00     0.223188         0.263792           0.204917\n",
       "Median                  0.223188         0.263792           0.204917"
      ]
     },
     "execution_count": 4,
     "metadata": {},
     "output_type": "execute_result"
    }
   ],
   "source": [
    "# Ratio payout y ROE (últimos 5 ejercicios fiscales)\n",
    "fundamentalGrowth = pd.DataFrame(index = incomeStatement[\"date\"].iloc[0 : 5], columns = [\"Payout Ratio\", \"Return on Equity\"])\n",
    "\n",
    "for i in range(len(fundamentalGrowth)):\n",
    "    if incomeStatement[\"netIncome\"].iloc[i] > 0:\n",
    "        fundamentalGrowth.iloc[i, 0] = abs(cashFlowStatement[\"dividendsPaid\"].iloc[i]) / incomeStatement[\"netIncome\"].iloc[i]\n",
    "    else:\n",
    "        fundamentalGrowth.iloc[i, 0] = np.nan\n",
    "        \n",
    "    if balanceSheet[\"totalStockholdersEquity\"].iloc[i] > 0:\n",
    "        fundamentalGrowth.iloc[i, 1] = incomeStatement[\"netIncome\"].iloc[i] / balanceSheet[\"totalStockholdersEquity\"].iloc[i]\n",
    "    else:\n",
    "        fundamentalGrowth.iloc[i, 1] = np.nan\n",
    "\n",
    "# Tasa de crecimiento para la fase inicial (estimada por fundamentales)\n",
    "fundamentalGrowth[\"Fundamental Growth\"] = fundamentalGrowth[\"Return on Equity\"] * (1 - fundamentalGrowth[\"Payout Ratio\"])\n",
    "payout = np.median(fundamentalGrowth[\"Payout Ratio\"].dropna()) \n",
    "roe = np.median(fundamentalGrowth[\"Return on Equity\"].dropna())\n",
    "g = roe * (1 - payout)\n",
    "\n",
    "fundamentalGrowth.loc[\"Median\", \"Payout Ratio\"] = payout\n",
    "fundamentalGrowth.loc[\"Median\", \"Return on Equity\"] = roe\n",
    "fundamentalGrowth.loc[\"Median\", \"Fundamental Growth\"] = g\n",
    "fundamentalGrowth"
   ]
  },
  {
   "cell_type": "code",
   "execution_count": 5,
   "metadata": {},
   "outputs": [
    {
     "data": {
      "text/html": [
       "<div>\n",
       "<style scoped>\n",
       "    .dataframe tbody tr th:only-of-type {\n",
       "        vertical-align: middle;\n",
       "    }\n",
       "\n",
       "    .dataframe tbody tr th {\n",
       "        vertical-align: top;\n",
       "    }\n",
       "\n",
       "    .dataframe thead th {\n",
       "        text-align: right;\n",
       "    }\n",
       "</style>\n",
       "<table border=\"1\" class=\"dataframe\">\n",
       "  <thead>\n",
       "    <tr style=\"text-align: right;\">\n",
       "      <th></th>\n",
       "      <th>Exp EPS Growth (3-5yr) 20.00%</th>\n",
       "    </tr>\n",
       "  </thead>\n",
       "  <tbody>\n",
       "    <tr>\n",
       "      <th>AXP</th>\n",
       "      <td>0.2</td>\n",
       "    </tr>\n",
       "  </tbody>\n",
       "</table>\n",
       "</div>"
      ],
      "text/plain": [
       "      Exp EPS Growth (3-5yr) 20.00% \n",
       "AXP                              0.2"
      ]
     },
     "execution_count": 5,
     "metadata": {},
     "output_type": "execute_result"
    }
   ],
   "source": [
    "# Scrapeo de la tasa de crecimiento esperada para los beneficios por acción durante los próximos 5 años (Zacks)\n",
    "ua = UserAgent()\n",
    "header = {\"User-Agent\" : ua.random}\n",
    "\n",
    "try:\n",
    "    page = requests.get(\"https://www.zacks.com/stock/quote/\" + ticker, headers=header)\n",
    "    page_content = page.content\n",
    "    soup = BeautifulSoup(page_content, \"html.parser\")\n",
    "\n",
    "    values = soup.find_all(\"p\", {\"class\" : \"up float_right\"})\n",
    "    growthZacks = float(values[0].get_text().replace(\"%\", \"\")) / 100\n",
    "\n",
    "    labels = soup.find_all(\"dl\", {\"class\" : \"abut_bottom\"})\n",
    "    zacksData = []\n",
    "        \n",
    "    for row in labels:\n",
    "        zacksData.append(row.get_text())\n",
    "\n",
    "    col = zacksData[-3].replace(\"\\n\", \" \")\n",
    "\n",
    "except:\n",
    "    growthZacks = 0\n",
    "    col = \"Exp EPS Growth (3-5yr) 0.00%\"\n",
    "    \n",
    "zacksEstimates = pd.DataFrame({col : growthZacks}, index = [ticker])\n",
    "zacksEstimates"
   ]
  },
  {
   "cell_type": "markdown",
   "metadata": {},
   "source": [
    "### Tasa de Descuento: Cost of Equity\n",
    "#### Fase de Alto Crecimiento & Fase de Crecimiento Estable"
   ]
  },
  {
   "cell_type": "code",
   "execution_count": 6,
   "metadata": {},
   "outputs": [
    {
     "data": {
      "image/png": "[encoded data removed]",
      "text/plain": [
       "<Figure size 1080x360 with 1 Axes>"
      ]
     },
     "metadata": {
      "needs_background": "light"
     },
     "output_type": "display_data"
    }
   ],
   "source": [
    "# Obtención de la Beta\n",
    "end = dt.datetime.today()\n",
    "start = end - dt.timedelta(365 * 5)\n",
    "\n",
    "stockPrice = yf.download(ticker, start = start, end = end, progress = False, interval = \"1mo\").dropna()\n",
    "marketPrice = yf.download(\"^GSPC\", start = start, end = end, progress = False, interval = \"1mo\").dropna()\n",
    "\n",
    "stockReturns = stockPrice[[\"Adj Close\"]].pct_change().dropna()\n",
    "marketReturns = marketPrice[[\"Adj Close\"]].pct_change().dropna()\n",
    "\n",
    "x = marketReturns.values\n",
    "y = stockReturns.values\n",
    "lr = LinearRegression().fit(x, y)\n",
    "beta = lr.coef_[0]\n",
    "x = np.linspace(min(x)[0], max(x)[0], 100)\n",
    "\n",
    "# Visualización\n",
    "plt.figure(figsize = (15, 5))\n",
    "plt.scatter(marketReturns, stockReturns, marker = \"D\", color = \"crimson\", alpha = \"0.5\")\n",
    "plt.plot(x, beta[0] * x, \"--\", color = \"black\", lw = 2.5, label = str(round(beta[0], 2)) + \" Beta\")\n",
    "plt.title(\"Beta\")\n",
    "plt.xlabel(\"S&P 500 Monthly Porcentual Returns\")\n",
    "plt.ylabel(ticker + \" Monthly Porcentual Returns\")\n",
    "plt.legend(loc = \"best\")\n",
    "plt.grid();"
   ]
  },
  {
   "cell_type": "code",
   "execution_count": 7,
   "metadata": {},
   "outputs": [
    {
     "data": {
      "text/html": [
       "<div>\n",
       "<style scoped>\n",
       "    .dataframe tbody tr th:only-of-type {\n",
       "        vertical-align: middle;\n",
       "    }\n",
       "\n",
       "    .dataframe tbody tr th {\n",
       "        vertical-align: top;\n",
       "    }\n",
       "\n",
       "    .dataframe thead th {\n",
       "        text-align: right;\n",
       "    }\n",
       "</style>\n",
       "<table border=\"1\" class=\"dataframe\">\n",
       "  <thead>\n",
       "    <tr style=\"text-align: right;\">\n",
       "      <th></th>\n",
       "      <th>Treasury Yield 10 Years</th>\n",
       "      <th>Market Risk Premium</th>\n",
       "      <th>Cost of Equity (High Growth)</th>\n",
       "      <th>Cost of Equity (Stable Growth)</th>\n",
       "    </tr>\n",
       "  </thead>\n",
       "  <tbody>\n",
       "    <tr>\n",
       "      <th>AXP</th>\n",
       "      <td>0.01245</td>\n",
       "      <td>0.0472</td>\n",
       "      <td>0.073005</td>\n",
       "      <td>0.05965</td>\n",
       "    </tr>\n",
       "  </tbody>\n",
       "</table>\n",
       "</div>"
      ],
      "text/plain": [
       "     Treasury Yield 10 Years  Market Risk Premium  \\\n",
       "AXP                  0.01245               0.0472   \n",
       "\n",
       "     Cost of Equity (High Growth)  Cost of Equity (Stable Growth)  \n",
       "AXP                      0.073005                         0.05965  "
      ]
     },
     "execution_count": 7,
     "metadata": {},
     "output_type": "execute_result"
    }
   ],
   "source": [
    "## CAPM\n",
    "# Tasa libre de riesgo\n",
    "rf = yf.download(\"^TNX\", start = start, end = end, progress = False)[\"Adj Close\"][-1] / 100\n",
    "# Risk Premium (US)\n",
    "riskPremiums = pd.read_csv(\"Data/EquityRiskPremiums.csv\", index_col = [0])\n",
    "riskPremium = float(riskPremiums.loc[\"United  States\", \"Total Equity Risk Premium\"].replace(\"%\", \"\")) / 100\n",
    "\n",
    "# Cost of equity (hg)\n",
    "ke_h = rf + beta[0] * riskPremium\n",
    "# Cost of equity (st)\n",
    "ke_s = rf + 1 * riskPremium\n",
    "\n",
    "capm = pd.DataFrame({\"Treasury Yield 10 Years\" : rf, \"Market Risk Premium\" : riskPremium, \n",
    "                     \"Cost of Equity (High Growth)\" : ke_h, \"Cost of Equity (Stable Growth)\" : ke_s},\n",
    "                    index = [ticker])\n",
    "capm"
   ]
  },
  {
   "cell_type": "markdown",
   "metadata": {},
   "source": [
    "### Modelo de Dividendos Descontados de Dos Etapas"
   ]
  },
  {
   "cell_type": "code",
   "execution_count": 8,
   "metadata": {},
   "outputs": [
    {
     "data": {
      "text/html": [
       "<div>\n",
       "<style scoped>\n",
       "    .dataframe tbody tr th:only-of-type {\n",
       "        vertical-align: middle;\n",
       "    }\n",
       "\n",
       "    .dataframe tbody tr th {\n",
       "        vertical-align: top;\n",
       "    }\n",
       "\n",
       "    .dataframe thead th {\n",
       "        text-align: right;\n",
       "    }\n",
       "</style>\n",
       "<table border=\"1\" class=\"dataframe\">\n",
       "  <thead>\n",
       "    <tr style=\"text-align: right;\">\n",
       "      <th></th>\n",
       "      <th>EPS</th>\n",
       "      <th>EPS Growth</th>\n",
       "      <th>Payout</th>\n",
       "      <th>Perpetual Growth</th>\n",
       "      <th>Stable Payout</th>\n",
       "    </tr>\n",
       "  </thead>\n",
       "  <tbody>\n",
       "    <tr>\n",
       "      <th>AXP</th>\n",
       "      <td>3.89441</td>\n",
       "      <td>0.2</td>\n",
       "      <td>0.223188</td>\n",
       "      <td>0.01245</td>\n",
       "      <td>0.791282</td>\n",
       "    </tr>\n",
       "  </tbody>\n",
       "</table>\n",
       "</div>"
      ],
      "text/plain": [
       "         EPS  EPS Growth    Payout  Perpetual Growth  Stable Payout\n",
       "AXP  3.89441         0.2  0.223188           0.01245       0.791282"
      ]
     },
     "execution_count": 8,
     "metadata": {},
     "output_type": "execute_result"
    }
   ],
   "source": [
    "# Tasa de crecimiento seleccionada (fase inicial)\n",
    "epsGrowth = 0 * g + 1 * growthZacks\n",
    "# Tasa de crecimiento estable\n",
    "pg = rf\n",
    "# Ratio payout para la fase de crecimiento estable\n",
    "stablePayout = 1 - pg / ke_s\n",
    "\n",
    "parameters = pd.DataFrame({\"EPS\" : eps, \"EPS Growth\" : epsGrowth, \"Payout\" : payout,\n",
    "                           \"Perpetual Growth\" : pg, \"Stable Payout\" : stablePayout}, \n",
    "                          index = [ticker])\n",
    "parameters"
   ]
  },
  {
   "cell_type": "code",
   "execution_count": 9,
   "metadata": {
    "scrolled": true
   },
   "outputs": [
    {
     "data": {
      "text/html": [
       "<div>\n",
       "<style scoped>\n",
       "    .dataframe tbody tr th:only-of-type {\n",
       "        vertical-align: middle;\n",
       "    }\n",
       "\n",
       "    .dataframe tbody tr th {\n",
       "        vertical-align: top;\n",
       "    }\n",
       "\n",
       "    .dataframe thead th {\n",
       "        text-align: right;\n",
       "    }\n",
       "</style>\n",
       "<table border=\"1\" class=\"dataframe\">\n",
       "  <thead>\n",
       "    <tr style=\"text-align: right;\">\n",
       "      <th></th>\n",
       "      <th>Year 1</th>\n",
       "      <th>Year 2</th>\n",
       "      <th>Year 3</th>\n",
       "      <th>Year 4</th>\n",
       "      <th>Year 5</th>\n",
       "      <th>Terminal Value</th>\n",
       "    </tr>\n",
       "  </thead>\n",
       "  <tbody>\n",
       "    <tr>\n",
       "      <th>Earnings Per Share</th>\n",
       "      <td>4.67329</td>\n",
       "      <td>5.60795</td>\n",
       "      <td>6.72954</td>\n",
       "      <td>8.07545</td>\n",
       "      <td>9.69054</td>\n",
       "      <td>9.81119</td>\n",
       "    </tr>\n",
       "    <tr>\n",
       "      <th>Dividends Per Share</th>\n",
       "      <td>1.04302</td>\n",
       "      <td>1.25163</td>\n",
       "      <td>1.50195</td>\n",
       "      <td>1.80234</td>\n",
       "      <td>2.16281</td>\n",
       "      <td>7.76342</td>\n",
       "    </tr>\n",
       "    <tr>\n",
       "      <th>Discount Rate</th>\n",
       "      <td>1.073</td>\n",
       "      <td>1.15134</td>\n",
       "      <td>1.23539</td>\n",
       "      <td>1.32558</td>\n",
       "      <td>1.42236</td>\n",
       "      <td>0.0472</td>\n",
       "    </tr>\n",
       "    <tr>\n",
       "      <th>Present Value of Dividends</th>\n",
       "      <td>0.972057</td>\n",
       "      <td>1.08711</td>\n",
       "      <td>1.21577</td>\n",
       "      <td>1.35966</td>\n",
       "      <td>1.52058</td>\n",
       "      <td>115.639</td>\n",
       "    </tr>\n",
       "  </tbody>\n",
       "</table>\n",
       "</div>"
      ],
      "text/plain": [
       "                              Year 1   Year 2   Year 3   Year 4   Year 5  \\\n",
       "Earnings Per Share           4.67329  5.60795  6.72954  8.07545  9.69054   \n",
       "Dividends Per Share          1.04302  1.25163  1.50195  1.80234  2.16281   \n",
       "Discount Rate                  1.073  1.15134  1.23539  1.32558  1.42236   \n",
       "Present Value of Dividends  0.972057  1.08711  1.21577  1.35966  1.52058   \n",
       "\n",
       "                           Terminal Value  \n",
       "Earnings Per Share                9.81119  \n",
       "Dividends Per Share               7.76342  \n",
       "Discount Rate                      0.0472  \n",
       "Present Value of Dividends        115.639  "
      ]
     },
     "execution_count": 9,
     "metadata": {},
     "output_type": "execute_result"
    }
   ],
   "source": [
    "# Modelo de dividendos descontados\n",
    "estimates = pd.DataFrame(columns = [\"Year 1\", \"Year 2\", \"Year 3\", \"Year 4\", \"Year 5\", \"Terminal Value\"], \n",
    "                         index = [\"Earnings Per Share\", \"Dividends Per Share\", \"Discount Rate\", \"Present Value of Dividends\"])\n",
    "\n",
    "for i in range(len(estimates.iloc[0])):\n",
    "    # Fase de alto crecimiento\n",
    "    if i != len(estimates.iloc[0]) - 1:\n",
    "        estimates.iloc[0, i] = eps * (1 + epsGrowth) ** (i + 1)\n",
    "        estimates.iloc[1, i] = estimates.iloc[0, i] * payout\n",
    "        estimates.iloc[2, i] = (1 + ke_h) ** (i + 1)\n",
    "        estimates.iloc[3, i] = estimates.iloc[1, i] / estimates.iloc[2, i]\n",
    "    \n",
    "    # Fase de crecimiento estable\n",
    "    else:\n",
    "        estimates.iloc[0, i] = estimates.iloc[0, i - 1] * (1 + pg) \n",
    "        estimates.iloc[1, i] = estimates.iloc[0, i] * stablePayout\n",
    "        estimates.iloc[2, i] = ke_s - pg\n",
    "        estimates.iloc[3, i] = (estimates.iloc[1, i] / estimates.iloc[2, i]) / estimates.iloc[2, i -1]\n",
    "    \n",
    "estimates"
   ]
  },
  {
   "cell_type": "markdown",
   "metadata": {},
   "source": [
    "### Valor Intrínseco por Acción"
   ]
  },
  {
   "cell_type": "code",
   "execution_count": 10,
   "metadata": {},
   "outputs": [
    {
     "data": {
      "text/html": [
       "<div>\n",
       "<style scoped>\n",
       "    .dataframe tbody tr th:only-of-type {\n",
       "        vertical-align: middle;\n",
       "    }\n",
       "\n",
       "    .dataframe tbody tr th {\n",
       "        vertical-align: top;\n",
       "    }\n",
       "\n",
       "    .dataframe thead th {\n",
       "        text-align: right;\n",
       "    }\n",
       "</style>\n",
       "<table border=\"1\" class=\"dataframe\">\n",
       "  <thead>\n",
       "    <tr style=\"text-align: right;\">\n",
       "      <th></th>\n",
       "      <th>Intrinsic Value Per Share</th>\n",
       "      <th>Current Price</th>\n",
       "      <th>Margin of Safety</th>\n",
       "    </tr>\n",
       "  </thead>\n",
       "  <tbody>\n",
       "    <tr>\n",
       "      <th>AXP</th>\n",
       "      <td>121.793828</td>\n",
       "      <td>164.449997</td>\n",
       "      <td>-0.350233</td>\n",
       "    </tr>\n",
       "  </tbody>\n",
       "</table>\n",
       "</div>"
      ],
      "text/plain": [
       "     Intrinsic Value Per Share  Current Price  Margin of Safety\n",
       "AXP                 121.793828     164.449997         -0.350233"
      ]
     },
     "execution_count": 10,
     "metadata": {},
     "output_type": "execute_result"
    }
   ],
   "source": [
    "# Cotización\n",
    "stockPrice = yf.download(ticker, start = start, end = end, progress = False)[\"Adj Close\"]\n",
    "# Valor intrínseco\n",
    "intrinsicValue = estimates.loc[\"Present Value of Dividends\"].sum()\n",
    "\n",
    "valuation = pd.DataFrame({\"Intrinsic Value Per Share\" : intrinsicValue, \"Current Price\" : stockPrice[-1], \n",
    "                          \"Margin of Safety\" : 1 - stockPrice[-1] / intrinsicValue}, \n",
    "                          index = [ticker])\n",
    "valuation"
   ]
  },
  {
   "cell_type": "code",
   "execution_count": 11,
   "metadata": {},
   "outputs": [
    {
     "data": {
      "image/png": "[encoded data removed]",
      "text/plain": [
       "<Figure size 1080x360 with 1 Axes>"
      ]
     },
     "metadata": {
      "needs_background": "light"
     },
     "output_type": "display_data"
    }
   ],
   "source": [
    "# Visualización\n",
    "stockPrice.plot(figsize = (15, 5), color = \"navy\", label = \"Stock Price\")\n",
    "plt.plot(stockPrice.index, np.ones(len(stockPrice)) * intrinsicValue, \"--\", label = \"Intrinsic Value: \" + str(round(intrinsicValue)), color = \"darkcyan\")\n",
    "plt.plot(stockPrice.index, np.ones(len(stockPrice)) * stockPrice[-1], \"--\", label = \"Last Price: \" + str(round(stockPrice[-1])), color = \"black\")\n",
    "plt.fill_between(stockPrice.index, stockPrice[-1], intrinsicValue, alpha = 0.05)\n",
    "\n",
    "if intrinsicValue > stockPrice[-1]:\n",
    "    plt.fill_between(stockPrice.index, stockPrice[-1], intrinsicValue, alpha = 0.15, color = \"green\", label = \"MoS: \" + str(round(1 - stockPrice[-1] / intrinsicValue, 2)))\n",
    "else:\n",
    "    plt.fill_between(stockPrice.index, stockPrice[-1], intrinsicValue, alpha = 0.15, color = \"red\", label = \"MoS: \" + str(round(1 - stockPrice[-1] / intrinsicValue, 2)))\n",
    "\n",
    "plt.title(ticker + \" DDM\")\n",
    "plt.xlabel(\"Date\")\n",
    "plt.ylabel(\"USD\")\n",
    "plt.legend(loc = \"best\")\n",
    "plt.grid();"
   ]
  },
  {
   "cell_type": "markdown",
   "metadata": {},
   "source": [
    "### Referencias Consultadas:\n",
    "\n",
    "+ Damodaran, A. (2011). The Little Book of Valuation. New Jersey: Wiley."
   ]
  }
 ],
 "metadata": {
  "kernelspec": {
   "display_name": "Python 3",
   "language": "python",
   "name": "python3"
  },
  "language_info": {
   "codemirror_mode": {
    "name": "ipython",
    "version": 3
   },
   "file_extension": ".py",
   "mimetype": "text/x-python",
   "name": "python",
   "nbconvert_exporter": "python",
   "pygments_lexer": "ipython3",
   "version": "3.7.1"
  }
 },
 "nbformat": 4,
 "nbformat_minor": 2
}
